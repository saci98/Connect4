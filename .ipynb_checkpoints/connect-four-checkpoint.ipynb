{
 "cells": [
  {
   "cell_type": "markdown",
   "metadata": {},
   "source": [
    "Copyright **`(c)`** 2021 Giovanni Squillero `<squillero@polito.it>`  \n",
    "[`https://github.com/squillero/computational-intelligence`](https://github.com/squillero/computational-intelligence)  \n",
    "Free for personal or classroom use; see 'LICENCE.md' for details."
   ]
  },
  {
   "cell_type": "markdown",
   "metadata": {},
   "source": [
    "# Connect 4"
   ]
  },
  {
   "cell_type": "code",
   "execution_count": 1,
   "metadata": {},
   "outputs": [],
   "source": [
    "from collections import Counter\n",
    "import numpy as np\n",
    "import time"
   ]
  },
  {
   "cell_type": "code",
   "execution_count": 2,
   "metadata": {},
   "outputs": [],
   "source": [
    "NUM_COLUMNS = 7\n",
    "COLUMN_HEIGHT = 6\n",
    "FOUR = 4\n",
    "\n",
    "# Board can be initiatilized with `board = np.zeros((NUM_COLUMNS, COLUMN_HEIGHT), dtype=np.byte)`\n",
    "# Notez Bien: Connect 4 \"columns\" are actually NumPy \"rows\""
   ]
  },
  {
   "cell_type": "markdown",
   "metadata": {},
   "source": [
    "## Basic Functions"
   ]
  },
  {
   "cell_type": "code",
   "execution_count": 3,
   "metadata": {},
   "outputs": [],
   "source": [
    "def valid_moves(board):\n",
    "    \"\"\"Returns columns where a disc may be played\"\"\"\n",
    "    return [n for n in range(NUM_COLUMNS) if board[n, COLUMN_HEIGHT - 1] == 0]\n",
    "\n",
    "\n",
    "def play(board, column, player):\n",
    "    \"\"\"Updates `board` as `player` drops a disc in `column`\"\"\"\n",
    "    (index,) = next((i for i, v in np.ndenumerate(board[column]) if v == 0))\n",
    "    board[column, index] = player\n",
    "\n",
    "\n",
    "def take_back(board, column):\n",
    "    \"\"\"Updates `board` removing top disc from `column`\"\"\"\n",
    "    (index,) = [i for i, v in np.ndenumerate(board[column]) if v != 0][-1]\n",
    "    board[column, index] = 0\n",
    "\n",
    "\n",
    "def four_in_a_row(board, player):\n",
    "    \"\"\"Checks if `player` has a 4-piece line\"\"\"\n",
    "    return (\n",
    "        any(\n",
    "            all(board[c, r] == player)\n",
    "            for c in range(NUM_COLUMNS)\n",
    "            for r in (list(range(n, n + FOUR)) for n in range(COLUMN_HEIGHT - FOUR + 1))\n",
    "        )\n",
    "        or any(\n",
    "            all(board[c, r] == player)\n",
    "            for r in range(COLUMN_HEIGHT)\n",
    "            for c in (list(range(n, n + FOUR)) for n in range(NUM_COLUMNS - FOUR + 1))\n",
    "        )\n",
    "        or any(\n",
    "            np.all(board[diag] == player)\n",
    "            for diag in (\n",
    "                (range(ro, ro + FOUR), range(co, co + FOUR))\n",
    "                for ro in range(0, NUM_COLUMNS - FOUR + 1)\n",
    "                for co in range(0, COLUMN_HEIGHT - FOUR + 1)\n",
    "            )\n",
    "        )\n",
    "        or any(\n",
    "            np.all(board[diag] == player)\n",
    "            for diag in (\n",
    "                (range(ro, ro + FOUR), range(co + FOUR - 1, co - 1, -1))\n",
    "                for ro in range(0, NUM_COLUMNS - FOUR + 1)\n",
    "                for co in range(0, COLUMN_HEIGHT - FOUR + 1)\n",
    "            )\n",
    "        )\n",
    "    )"
   ]
  },
  {
   "cell_type": "markdown",
   "metadata": {},
   "source": [
    "## Montecarlo Evaluation"
   ]
  },
  {
   "cell_type": "code",
   "execution_count": 4,
   "metadata": {},
   "outputs": [],
   "source": [
    "def _mc(board, player):\n",
    "    p = -player\n",
    "    while valid_moves(board):\n",
    "        p = -p\n",
    "        c = np.random.choice(valid_moves(board))\n",
    "        play(board, c, p)\n",
    "        if four_in_a_row(board, p):\n",
    "            return p\n",
    "    return 0\n",
    "\n",
    "\n",
    "def montecarlo(board, player):\n",
    "    montecarlo_samples = 50\n",
    "    cnt = Counter(_mc(np.copy(board), player) for _ in range(montecarlo_samples))\n",
    "    return (cnt[1] - cnt[-1]) / montecarlo_samples\n",
    "\n",
    "def eval_terminal(board):\n",
    "    if four_in_a_row(board, 1):\n",
    "        # Alice won\n",
    "        return 1\n",
    "    elif four_in_a_row(board, -1):\n",
    "        # Bob won\n",
    "        return -1\n",
    "    else:\n",
    "        return 0\n",
    "\n",
    "def eval_board(board, player):\n",
    "    if four_in_a_row(board, 1):\n",
    "        # Alice won\n",
    "        return 1\n",
    "    elif four_in_a_row(board, -1):\n",
    "        # Bob won\n",
    "        return -1\n",
    "    else:\n",
    "        # Not terminal, let's simulate...\n",
    "        return montecarlo(board, player)"
   ]
  },
  {
   "cell_type": "markdown",
   "metadata": {},
   "source": [
    "## Montecarlo Tree Search"
   ]
  },
  {
   "cell_type": "code",
   "execution_count": 5,
   "metadata": {},
   "outputs": [],
   "source": [
    "class Node:\n",
    "    def __init__(self, move=None, parent=None, state=None, player=None):\n",
    "        self.state = state.copy()\n",
    "        self.parent = parent\n",
    "        self.move = move\n",
    "        self.untriedMoves = valid_moves(state)\n",
    "        self.childNodes = []\n",
    "        self.wins = 0\n",
    "        self.visits = 0\n",
    "        self.player = player \n",
    "        \n",
    "    def selection(self):\n",
    "        # return child with largest UCT value\n",
    "        foo = lambda x: x.wins/x.visits + np.sqrt(2*np.log(self.visits)/x.visits)\n",
    "        return sorted(self.childNodes, key=foo)[-1]\n",
    "        \n",
    "    def expand(self, move, state):\n",
    "        # return child when move is taken\n",
    "            # remove move from current node\n",
    "        child = Node(move=move, parent=self, state=state, player=-(self.player))\n",
    "        self.untriedMoves.remove(move)\n",
    "        self.childNodes.append(child)\n",
    "        return child\n",
    "\n",
    "    def update(self, result):\n",
    "        if self.player == result:\n",
    "            self.wins += 1\n",
    "        self.visits += 1\n",
    "\n",
    "def MCTS(currentState, player, itermax):\n",
    "    rootnode = Node(state=currentState, player=player)\n",
    "    \n",
    "    for i in range(itermax):\n",
    "        node = rootnode\n",
    "        state = currentState.copy()\n",
    "        \n",
    "        # selection\n",
    "            # keep going down the tree based on best UCT values until terminal or unexpanded node\n",
    "        while node.untriedMoves == [] and node.childNodes != []:\n",
    "            node = node.selection()\n",
    "            play(state, node.move, node.player)\n",
    "\n",
    "        # expand\n",
    "        if node.untriedMoves != []:\n",
    "            m = np.random.choice(node.untriedMoves)\n",
    "            play(state, m, node.player)            \n",
    "            node = node.expand(m, state)\n",
    "        \n",
    "        # rollout\n",
    "        res = _mc(state, -player)\n",
    "            \n",
    "        # backpropagate\n",
    "        while node is not None:\n",
    "            node.update(res)\n",
    "            node = node.parent\n",
    "    foo = lambda x: x.wins/x.visits\n",
    "    sortedChildNodes = sorted(rootnode.childNodes, key=foo)[-1]\n",
    "    return sortedChildNodes.move"
   ]
  },
  {
   "cell_type": "markdown",
   "metadata": {},
   "source": [
    "## MinMax with Alpha Beta pruning and Montecarlo simulation"
   ]
  },
  {
   "cell_type": "code",
   "execution_count": 6,
   "metadata": {},
   "outputs": [],
   "source": [
    "MAX_DEPTH = 2\n",
    "\n",
    "def minmax(board, player, alpha, beta, depth=0):\n",
    "    possible = valid_moves(board)\n",
    "    if depth == MAX_DEPTH or not possible:\n",
    "        return None, eval_board(board, player)\n",
    "    val = eval_terminal(board)\n",
    "    if val == -1 or val == 1:\n",
    "        return None, val\n",
    "    best_ply = -1\n",
    "    if player == 1:\n",
    "        val = -2\n",
    "        for ply in possible:\n",
    "            play(board, ply, player)\n",
    "            _, val_prova = minmax(board, -player, alpha, beta, depth+1)\n",
    "            if val_prova > val:\n",
    "                val = val_prova\n",
    "                best_ply = ply\n",
    "            take_back(board, ply)\n",
    "            if val >= beta:\n",
    "                break\n",
    "            alpha = max(val, alpha)\n",
    "        return best_ply, val\n",
    "    else:\n",
    "        val = 2\n",
    "        for ply in possible:\n",
    "            play(board, ply, player)\n",
    "            _, val_prova = minmax(board, -player, alpha, beta, depth+1)\n",
    "            if val_prova < val:\n",
    "                val = val_prova\n",
    "                best_ply = ply\n",
    "            take_back(board, ply)\n",
    "            if val <= alpha:\n",
    "                break\n",
    "            beta = min(val, beta)\n",
    "        return best_ply, val"
   ]
  },
  {
   "cell_type": "markdown",
   "metadata": {},
   "source": [
    "## Example"
   ]
  },
  {
   "cell_type": "code",
   "execution_count": 7,
   "metadata": {},
   "outputs": [
    {
     "name": "stdout",
     "output_type": "stream",
     "text": [
      "[[ 0  0  0  0  0  0]\n",
      " [-1 -1  0  0  0  0]\n",
      " [ 0  0  0  0  0  0]\n",
      " [ 1  0  0  0  0  0]\n",
      " [ 1  0  0  0  0  0]\n",
      " [ 0  0  0  0  0  0]\n",
      " [ 0  0  0  0  0  0]]\n",
      "5 0.52\n",
      "[[ 0  0  0  0  0  0]\n",
      " [-1 -1  0  0  0  0]\n",
      " [ 0  0  0  0  0  0]\n",
      " [ 1  0  0  0  0  0]\n",
      " [ 1  0  0  0  0  0]\n",
      " [ 1  0  0  0  0  0]\n",
      " [ 0  0  0  0  0  0]]\n"
     ]
    }
   ],
   "source": [
    "board = np.zeros((NUM_COLUMNS, COLUMN_HEIGHT), dtype=np.byte)\n",
    "play(board, 3, 1)\n",
    "play(board, 1, -1)\n",
    "play(board, 4, 1)\n",
    "play(board, 1, -1)\n",
    "print(board)\n",
    "best_play, eval = minmax(board, 1, -2, 2)\n",
    "print(best_play, eval)\n",
    "play(board, best_play, 1)\n",
    "\n",
    "#best_play = MCTS(board, 1, 3000)\n",
    "#print(best_play)\n",
    "#play(board, best_play, 1)\n",
    "\n",
    "print(board)"
   ]
  },
  {
   "cell_type": "code",
   "execution_count": null,
   "metadata": {},
   "outputs": [],
   "source": []
  }
 ],
 "metadata": {
  "interpreter": {
   "hash": "371627151b0642f6c185c280fa16312776bda89bbb063ce0f2d8135c657194f4"
  },
  "kernelspec": {
   "display_name": "Python 3",
   "language": "python",
   "name": "python3"
  },
  "language_info": {
   "codemirror_mode": {
    "name": "ipython",
    "version": 3
   },
   "file_extension": ".py",
   "mimetype": "text/x-python",
   "name": "python",
   "nbconvert_exporter": "python",
   "pygments_lexer": "ipython3",
   "version": "3.8.8"
  }
 },
 "nbformat": 4,
 "nbformat_minor": 4
}
